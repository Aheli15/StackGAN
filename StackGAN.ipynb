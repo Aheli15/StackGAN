{
  "nbformat": 4,
  "nbformat_minor": 0,
  "metadata": {
    "colab": {
      "name": "StackGAN.ipynb",
      "provenance": [],
      "collapsed_sections": [],
      "authorship_tag": "ABX9TyNtH5fYR5+M6Z8DjK2xbR0I"
    },
    "kernelspec": {
      "name": "python3",
      "display_name": "Python 3"
    }
  },
  "cells": [
    {
      "cell_type": "code",
      "metadata": {
        "id": "SmMHjPTvVg0K",
        "colab_type": "code",
        "outputId": "c462755e-2bf2-4ffd-a4a2-3a3e8163b298",
        "colab": {
          "base_uri": "https://localhost:8080/",
          "height": 122
        }
      },
      "source": [
        "from google.colab import drive\n",
        "drive.mount('/content/gdrive')"
      ],
      "execution_count": 1,
      "outputs": [
        {
          "output_type": "stream",
          "text": [
            "Go to this URL in a browser: https://accounts.google.com/o/oauth2/auth?client_id=947318989803-6bn6qk8qdgf4n4g3pfee6491hc0brc4i.apps.googleusercontent.com&redirect_uri=urn%3aietf%3awg%3aoauth%3a2.0%3aoob&response_type=code&scope=email%20https%3a%2f%2fwww.googleapis.com%2fauth%2fdocs.test%20https%3a%2f%2fwww.googleapis.com%2fauth%2fdrive%20https%3a%2f%2fwww.googleapis.com%2fauth%2fdrive.photos.readonly%20https%3a%2f%2fwww.googleapis.com%2fauth%2fpeopleapi.readonly\n",
            "\n",
            "Enter your authorization code:\n",
            "··········\n",
            "Mounted at /content/gdrive\n"
          ],
          "name": "stdout"
        }
      ]
    },
    {
      "cell_type": "code",
      "metadata": {
        "id": "8w3vAJ81Jo51",
        "colab_type": "code",
        "colab": {}
      },
      "source": [
        "import os\n",
        "import pickle\n",
        "import random\n",
        "import time\n",
        "import numpy as np\n",
        "import pandas as pd\n",
        "import tensorflow as tf"
      ],
      "execution_count": 0,
      "outputs": []
    },
    {
      "cell_type": "code",
      "metadata": {
        "id": "gVDmLZEraE-W",
        "colab_type": "code",
        "outputId": "d8a8651c-2e1f-49a9-be6d-432fc4b51f71",
        "colab": {
          "base_uri": "https://localhost:8080/",
          "height": 170
        }
      },
      "source": [
        "os.listdir('/content/gdrive/My Drive/CUB Dataset/CUB_200_2011/')"
      ],
      "execution_count": 9,
      "outputs": [
        {
          "output_type": "execute_result",
          "data": {
            "text/plain": [
              "['images',\n",
              " 'parts',\n",
              " 'images.txt',\n",
              " 'train_test_split.txt',\n",
              " 'image_class_labels.txt',\n",
              " 'classes.txt',\n",
              " 'bounding_boxes.txt',\n",
              " 'attributes',\n",
              " 'README.txt']"
            ]
          },
          "metadata": {
            "tags": []
          },
          "execution_count": 9
        }
      ]
    },
    {
      "cell_type": "code",
      "metadata": {
        "id": "d97ixxBedTY4",
        "colab_type": "code",
        "colab": {}
      },
      "source": [
        "%tensorflow_version 2.x"
      ],
      "execution_count": 0,
      "outputs": []
    },
    {
      "cell_type": "markdown",
      "metadata": {
        "id": "XJr5Txuku-aA",
        "colab_type": "text"
      },
      "source": [
        "# Model"
      ]
    },
    {
      "cell_type": "code",
      "metadata": {
        "id": "ZVpK69iAJMUi",
        "colab_type": "code",
        "colab": {}
      },
      "source": [
        "import tensorflow.keras.backend as K\n",
        "from tensorflow.keras import Input, Model\n",
        "from tensorflow.keras.layers import LeakyReLU, BatchNormalization, ReLU, Activation\n",
        "from tensorflow.keras.layers import UpSampling2D, Conv2D, Concatenate, Dense, concatenate\n",
        "from tensorflow.keras.layers import Flatten, Lambda, Reshape, ZeroPadding2D, add\n",
        "from tensorflow.keras.optimizers import Adam"
      ],
      "execution_count": 0,
      "outputs": []
    },
    {
      "cell_type": "code",
      "metadata": {
        "id": "J2zKSLVFOzBT",
        "colab_type": "code",
        "colab": {}
      },
      "source": [
        "def build_ca_model():\n",
        "    input_layer = Input(shape=(1024,))\n",
        "    x = Dense(256)(input_layer)\n",
        "    x = LeakyReLU(alpha=0.2)(x)\n",
        "    model = Model(inputs=[input_layer], outputs=[x])\n",
        "    return model"
      ],
      "execution_count": 0,
      "outputs": []
    },
    {
      "cell_type": "code",
      "metadata": {
        "id": "4at1AFuoO7j3",
        "colab_type": "code",
        "colab": {}
      },
      "source": [
        "def build_embedding_compressor_model():\n",
        "    input_layer = Input(shape=(1024,))\n",
        "    x = Dense(128)(input_layer)\n",
        "    x = ReLU()(x)\n",
        "    model = Model(inputs=[input_layer], outputs=[x])\n",
        "    return model"
      ],
      "execution_count": 0,
      "outputs": []
    },
    {
      "cell_type": "code",
      "metadata": {
        "id": "lXHF2nzNPBI-",
        "colab_type": "code",
        "colab": {}
      },
      "source": [
        "def generate_c(x):\n",
        "\tmean = x[:, :128]\n",
        "\tlog_sigma = x[:, 128:]\n",
        "\tstddev = tf.math.exp(log_sigma)\n",
        "\tepsilon = K.random_normal(shape=K.constant((mean.shape[1], ), dtype='int32'))\n",
        "\tc = mean + stddev * epsilon\n",
        "\treturn c"
      ],
      "execution_count": 0,
      "outputs": []
    },
    {
      "cell_type": "code",
      "metadata": {
        "id": "1Qse6nduPU5U",
        "colab_type": "code",
        "colab": {}
      },
      "source": [
        "def ConvBlock(x, num_kernels, kernel_size=(4,4), strides=2, activation=True):\n",
        "\tx = Conv2D(num_kernels, kernel_size=kernel_size, padding='same', strides=strides, use_bias=False, kernel_initializer='he_uniform')(x)\n",
        "\tx = BatchNormalization(gamma_initializer='ones', beta_initializer='zeros')(x)\t\n",
        "\tif activation:\n",
        "\t\tx = LeakyReLU(alpha=0.2)(x)\n",
        "\treturn x"
      ],
      "execution_count": 0,
      "outputs": []
    },
    {
      "cell_type": "code",
      "metadata": {
        "id": "VgdifwIVPWBm",
        "colab_type": "code",
        "colab": {}
      },
      "source": [
        "def UpSamplingBlock(x, num_kernels):\n",
        "\tx = UpSampling2D(size=(2,2))(x)\n",
        "\tx = Conv2D(num_kernels, kernel_size=(3,3), padding='same', strides=1, use_bias=False, kernel_initializer='he_uniform')(x)\n",
        "\tx = BatchNormalization(gamma_initializer='ones', beta_initializer='zeros')(x)\n",
        "\tx = ReLU()(x)\n",
        "\treturn x"
      ],
      "execution_count": 0,
      "outputs": []
    },
    {
      "cell_type": "markdown",
      "metadata": {
        "id": "5-ZORZvWxHIh",
        "colab_type": "text"
      },
      "source": [
        "### Stage 1\n",
        "\n"
      ]
    },
    {
      "cell_type": "code",
      "metadata": {
        "id": "hbxxU6j0wuxq",
        "colab_type": "code",
        "colab": {}
      },
      "source": [
        "def build_stage1_generator():\n",
        "\n",
        "    input_layer = Input(shape=(1024,))    \n",
        "    ca = Dense(256)(input_layer)\n",
        "    ca = LeakyReLU(alpha=0.2)(ca)\n",
        "\n",
        "\t# Obtain the conditioned text\n",
        "    c = Lambda(generate_c)(ca)\n",
        "\n",
        "    input_layer2 = Input(shape=(100,))\n",
        "\n",
        "    concat = Concatenate(axis=1)([c, input_layer2])\n",
        "\n",
        "    x = Dense(16384, use_bias=False)(concat)\n",
        "    x = ReLU()(x)\n",
        "    x = Reshape((4, 4, 1024), input_shape=(16384,))(x)\n",
        "\n",
        "    x = UpSamplingBlock(x, 512)\n",
        "    x = UpSamplingBlock(x, 256)\n",
        "    x = UpSamplingBlock(x, 128)\n",
        "    x = UpSamplingBlock(x, 64)\n",
        "\n",
        "    x = Conv2D(3, kernel_size=3, padding='same', strides=1, use_bias=False, kernel_initializer='he_uniform')(x)\n",
        "    x = Activation('tanh')(x)\n",
        "\n",
        "    model = Model(inputs=[input_layer1, input_layer2], outputs=[x, ca])\n",
        "    return model"
      ],
      "execution_count": 0,
      "outputs": []
    },
    {
      "cell_type": "code",
      "metadata": {
        "id": "Gr88hrrAuWDz",
        "colab_type": "code",
        "colab": {}
      },
      "source": [
        "def build_stage1_discriminator():\n",
        "\tinput_layer1 = Input(shape=(64, 64, 3))\n",
        "\n",
        "\tx = Conv2D(64, kernel_size=(4,4), strides=2, padding='same', use_bias=False, kernel_initializer='he_uniform')(input_layer1)\n",
        "\tx = LeakyReLU(alpha=0.2)(x)\n",
        "\n",
        "\tx = ConvBlock(x, 128)\n",
        "\tx = ConvBlock(x, 256)\n",
        "\tx = ConvBlock(x, 512)\n",
        "\n",
        "\t# Obtain the compressed and spatially replicated text embedding\n",
        "\tinput_layer2 = Input(shape=(4, 4, 128))\n",
        "\tconcat = concatenate([x, input_layer2])\n",
        "\n",
        "\tx1 = Conv2D(512, kernel_size=(1,1), padding='same', strides=1, use_bias=False, kernel_initializer='he_uniform')(concat)\n",
        "\tx1 = BatchNormalization(gamma_initializer='ones', beta_initializer='zeros')(x)\n",
        "\tx1 = LeakyReLU(alpha=0.2)(x)\n",
        "\n",
        "\t# Flatten and add a FC layer to predict.\n",
        "\tx1 = Flatten()(x1)\n",
        "\tx1 = Dense(1)(x1)\n",
        "\tx1 = Activation('sigmoid')(x1)\n",
        "\n",
        "\tmodel = Model(inputs=[input_layer1, input_layer2], outputs=[x1])\n",
        "\treturn model"
      ],
      "execution_count": 0,
      "outputs": []
    },
    {
      "cell_type": "code",
      "metadata": {
        "id": "MQ4YNapBxDIC",
        "colab_type": "code",
        "colab": {}
      },
      "source": [
        "def build_stage1_adversarial_model(gen_model, dis_model):\n",
        "    input_layer = Input(shape=(1024,))\n",
        "    input_layer2 = Input(shape=(100,))\n",
        "    input_layer3 = Input(shape=(4, 4, 128))\n",
        "\n",
        "    x, mean_logsigma = gen_model([input_layer, input_layer2])\n",
        "\n",
        "    dis_model.trainable = False\n",
        "    valid = dis_model([x, input_layer3])\n",
        "\n",
        "    model = Model(inputs=[input_layer, input_layer2, input_layer3], outputs=[valid, mean_logsigma])\n",
        "    return model"
      ],
      "execution_count": 0,
      "outputs": []
    },
    {
      "cell_type": "markdown",
      "metadata": {
        "id": "mg-bjotBxV3b",
        "colab_type": "text"
      },
      "source": [
        "### Stage 2"
      ]
    },
    {
      "cell_type": "code",
      "metadata": {
        "id": "Q9OWkA9KPrOV",
        "colab_type": "code",
        "colab": {}
      },
      "source": [
        "def residual_block(input):\n",
        "\tx = Conv2D(512, kernel_size=(3,3), padding='same', use_bias=False,\n",
        "\t\t\t\tkernel_initializer='he_uniform')(input)\n",
        "\tx = BatchNormalization(gamma_initializer='ones', beta_initializer='zeros')(x)\n",
        "\tx = ReLU()(x)\n",
        "\t\n",
        "\tx = Conv2D(512, kernel_size=(3,3), padding='same', use_bias=False,\n",
        "\t\t\t\tkernel_initializer='he_uniform')(x)\n",
        "\tx = BatchNormalization(gamma_initializer='ones', beta_initializer='zeros')(x)\n",
        "\t\n",
        "\tx = add([x, input])\n",
        "\tx = ReLU()(x)\n",
        "\n",
        "\treturn x"
      ],
      "execution_count": 0,
      "outputs": []
    },
    {
      "cell_type": "code",
      "metadata": {
        "id": "Y_djjnCCQBRc",
        "colab_type": "code",
        "colab": {}
      },
      "source": [
        "def joint_block(inputs):\n",
        "    c = inputs[0]\n",
        "    x = inputs[1]\n",
        "\n",
        "    c = K.expand_dims(c, axis=1)\n",
        "    c = K.expand_dims(c, axis=1)\n",
        "    c = K.tile(c, [1, 16, 16, 1])\n",
        "    return K.concatenate([c, x], axis=3)"
      ],
      "execution_count": 0,
      "outputs": []
    },
    {
      "cell_type": "code",
      "metadata": {
        "id": "oWlBEcKVQFF6",
        "colab_type": "code",
        "colab": {}
      },
      "source": [
        "def build_stage2_generator():\n",
        "    # 1. CA Augmentation Network\n",
        "    input_layer = Input(shape=(1024,))\n",
        "    input_lr_images = Input(shape=(64, 64, 3))\n",
        "\n",
        "    ca = Dense(256)(input_layer)\n",
        "    mean_logsigma = LeakyReLU(alpha=0.2)(ca)\n",
        "    c = Lambda(generate_c)(mean_logsigma)\n",
        "\n",
        "    # 2. Image Encoder\n",
        "    x = ZeroPadding2D(padding=(1, 1))(input_lr_images)\n",
        "    x = Conv2D(128, kernel_size=(3, 3), strides=1, use_bias=False)(x)\n",
        "    x = ReLU()(x)\n",
        "\n",
        "    x = ZeroPadding2D(padding=(1, 1))(x)\n",
        "    x = Conv2D(256, kernel_size=(4, 4), strides=2, use_bias=False)(x)\n",
        "    x = BatchNormalization()(x)\n",
        "    x = ReLU()(x)\n",
        "\n",
        "    x = ZeroPadding2D(padding=(1, 1))(x)\n",
        "    x = Conv2D(512, kernel_size=(4, 4), strides=2, use_bias=False)(x)\n",
        "    x = BatchNormalization()(x)\n",
        "    x = ReLU()(x)\n",
        "\n",
        "    # 3. Joint\n",
        "    c_code = Lambda(joint_block)([c, x])\n",
        "\n",
        "    x = ZeroPadding2D(padding=(1, 1))(c_code)\n",
        "    x = Conv2D(512, kernel_size=(3, 3), strides=1, use_bias=False)(x)\n",
        "    x = BatchNormalization()(x)\n",
        "    x = ReLU()(x)\n",
        "\n",
        "    # 4. Residual blocks\n",
        "    x = residual_block(x)\n",
        "    x = residual_block(x)\n",
        "    x = residual_block(x)\n",
        "    x = residual_block(x)\n",
        "\n",
        "    # 5. Upsampling blocks\n",
        "    x = UpSamplingBlock(x, 512)\n",
        "    x = UpSamplingBlock(x, 256)\n",
        "    x = UpSamplingBlock(x, 128)\n",
        "    x = UpSamplingBlock(x, 64)\n",
        "\n",
        "    x = Conv2D(3, kernel_size=3, padding=\"same\", strides=1, use_bias=False)(x)\n",
        "    x = Activation('tanh')(x)\n",
        "\n",
        "    model = Model(inputs=[input_layer, input_lr_images], outputs=[x, mean_logsigma])\n",
        "    return model"
      ],
      "execution_count": 0,
      "outputs": []
    },
    {
      "cell_type": "code",
      "metadata": {
        "id": "iVieNwBtQ80y",
        "colab_type": "code",
        "colab": {}
      },
      "source": [
        "def build_stage2_discriminator():\n",
        "\tinput_layer1 = Input(shape=(256, 256, 3))\n",
        "\n",
        "\tx = Conv2D(64, kernel_size=(4,4), padding='same', strides=2, use_bias=False,\n",
        "\t\t\t\tkernel_initializer='he_uniform')(input_layer1)\n",
        "\tx = LeakyReLU(alpha=0.2)(x)\n",
        "\n",
        "\tx = ConvBlock(x, 128)\n",
        "\tx = ConvBlock(x, 256)\n",
        "\tx = ConvBlock(x, 512)\n",
        "\tx = ConvBlock(x, 1024)\n",
        "\tx = ConvBlock(x, 2048)\n",
        "\tx = ConvBlock(x, 1024, (1,1), 1)\n",
        "\tx = ConvBlock(x, 512, (1,1), 1, False)\n",
        "\n",
        "\tx1 = ConvBlock(x, 128, (1,1), 1)\n",
        "\tx1 = ConvBlock(x1, 128, (3,3), 1)\n",
        "\tx1 = ConvBlock(x1, 512, (3,3), 1, False)\n",
        "\n",
        "\tx2 = add([x, x1])\n",
        "\tx2 = LeakyReLU(alpha=0.2)(x2)\n",
        "\n",
        "\t# Concatenate compressed and spatially replicated embedding\n",
        "\tinput_layer2 = Input(shape=(4, 4, 128))\n",
        "\tconcat = concatenate([x2, input_layer2])\n",
        "\n",
        "\tx3 = Conv2D(512, kernel_size=(1,1), strides=1, padding='same', kernel_initializer='he_uniform')(concat)\n",
        "\tx3 = BatchNormalization(gamma_initializer='ones', beta_initializer='zeros')(x3)\n",
        "\tx3 = LeakyReLU(alpha=0.2)(x3)\n",
        "\n",
        "\t# Flatten and add a FC layer\n",
        "\tx3 = Flatten()(x3)\n",
        "\tx3 = Dense(1)(x3)\n",
        "\tx3 = Activation('sigmoid')(x3)\n",
        "\n",
        "\tmodel = Model(inputs=[input_layer1, input_layer2], outputs=[x3])\n",
        "\treturn model"
      ],
      "execution_count": 0,
      "outputs": []
    },
    {
      "cell_type": "code",
      "metadata": {
        "id": "nc-N6YVwSxe_",
        "colab_type": "code",
        "colab": {}
      },
      "source": [
        "def build_stage2_adversarial_model(gen_model2, dis_model, gen_model1):\n",
        "    \n",
        "    embeddings_input_layer = Input(shape=(1024, ))\n",
        "    noise_input_layer = Input(shape=(100, ))\n",
        "    compressed_embedding_input_layer = Input(shape=(4, 4, 128))\n",
        "\n",
        "    gen_model1.trainable = False\n",
        "    dis_model.trainable = False\n",
        "\n",
        "    lr_images, mean_logsigma1 = gen_model1([embeddings_input_layer, noise_input_layer])\n",
        "    hr_images, mean_logsigma2 = gen_model2([embeddings_input_layer, lr_images])\n",
        "    valid = dis_model([hr_images, compressed_embedding_input_layer])\n",
        "\n",
        "    model = Model(inputs=[embeddings_input_layer, noise_input_layer, compressed_embedding_input_layer], outputs=[valid, mean_logsigma2])\n",
        "    return model"
      ],
      "execution_count": 0,
      "outputs": []
    },
    {
      "cell_type": "code",
      "metadata": {
        "id": "sgMo6PLYTM62",
        "colab_type": "code",
        "colab": {}
      },
      "source": [
        ""
      ],
      "execution_count": 0,
      "outputs": []
    }
  ]
}